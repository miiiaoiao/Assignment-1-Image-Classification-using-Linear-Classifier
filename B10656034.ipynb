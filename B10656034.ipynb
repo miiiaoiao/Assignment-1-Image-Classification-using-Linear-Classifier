{
 "cells": [
  {
   "cell_type": "code",
   "execution_count": null,
   "metadata": {},
   "outputs": [],
   "source": [
    "import numpy as np\n",
    "import cv2\n",
    "import os\n",
    "import matplotlib.pyplot as plt\n",
    "from sklearn.linear_model import LogisticRegression #logistic回歸\n",
    "from sklearn.svm import LinearSVC #線性SVM\n",
    "from skimage.feature import local_binary_pattern\n",
    "from sklearn import svm, multiclass, model_selection\n",
    "from sklearn.model_selection import train_test_split\n",
    "from skimage import io, transform, color, measure, segmentation, morphology, feature\n",
    "from sklearn.decomposition import PCA "
   ]
  },
  {
   "cell_type": "code",
   "execution_count": null,
   "metadata": {},
   "outputs": [],
   "source": [
    "def loadimage(n):\n",
    "    x,y=[],[] \n",
    "    n=open(n)\n",
    "    line=n.readlines()\n",
    "    \n",
    "    for i in range(len(line)):\n",
    "        filename,labs=line[i].split(\" \") #用空白分開\n",
    "        x.append(process(filename))#在一個一個放到陣列裡面 回傳陣列方法\n",
    "        y.append(int(labs))\n",
    "        print (i)\n",
    "    return x,y"
   ]
  },
  {
   "cell_type": "code",
   "execution_count": null,
   "metadata": {},
   "outputs": [],
   "source": [
    "def process(filename):\n",
    "    image=cv2.imread(filename)\n",
    "    image=cv2.resize(image,(256,256))\n",
    "    image=cv2.cvtColor(image, cv2.COLOR_BGR2GRAY)  #轉成灰階加快檢測速度\n",
    "    #lbp = local_binary_pattern(image, n_points, radius)\n",
    "    return image"
   ]
  },
  {
   "cell_type": "code",
   "execution_count": null,
   "metadata": {},
   "outputs": [],
   "source": [
    "x,y=loadimage(\"train.txt\")\n",
    "valx,valy=loadimage(\"val.txt\")"
   ]
  },
  {
   "cell_type": "code",
   "execution_count": null,
   "metadata": {},
   "outputs": [],
   "source": [
    "# 填充空白区域\n",
    "def imfill(im_th):\n",
    "    # im_th 是0 1 整形二值图\n",
    "    # Copy the thresholded imapge.\n",
    "    im_th = np.uint8(im_th)\n",
    "    im_floodfill = im_th.copy()\n",
    "    # Mask used to flood filling.\n",
    "    # Notice the size needs to be 2 pixels than the image.\n",
    "    h, w = im_th.shape[:2]\n",
    "    # print('h '+str(h)+'   w '+str(w))\n",
    "    mask = np.zeros((h + 2, w + 2), np.uint8)\n",
    "    # Floodfill from point (0, 0)\n",
    "    cv2.floodFill(im_floodfill, mask, (0, 0), 1)\n",
    "    # Invert floodfilled image\n",
    "    im_floodfill_inv = cv2.bitwise_not(im_floodfill)\n",
    "    # Combine the two images to get the foreground.\n",
    "    im_out = im_th | im_floodfill_inv\n",
    "    return im_out\n",
    " "
   ]
  },
  {
   "cell_type": "code",
   "execution_count": null,
   "metadata": {},
   "outputs": [],
   "source": [
    " # 图片样本进行预处理，进行裁剪，去除非必要部分\n",
    "vidHeight = 256\n",
    "vidWidth = 256\n",
    "# for i in range(0, len(pic_path)):\n",
    "def imgprocessing(x):\n",
    "    Data=[]\n",
    "\n",
    "    for i in range(len(x)):\n",
    "\n",
    "        thresh = 140\n",
    "        bw = (x[i] <= thresh/255) * 1  # 根据阈值进行分割\n",
    "        # dst=np.uint8(dst)\n",
    "        pic_temp2 = imfill(bw)\n",
    "\n",
    "        cleared = pic_temp2.copy()  # 复制\n",
    "        segmentation.clear_border(cleared)  # 清除与边界相连的目标物\n",
    "        label_image = measure.label(cleared)  # 连通区域标记  connectivity=1 # 4连通区域标记\n",
    "        # image_label_overlay = color.label2rgb(label_image)  # 不同标记用不同颜色显示\n",
    "        # plt.imshow(image_label_overlay, interpolation='nearest')\n",
    "        # plt.show()\n",
    "        borders = np.logical_xor(bw, cleared)  # 异或,去除背景\n",
    "        label_image[borders] = -1\n",
    "        Eccentricity = 1   # 离心率\n",
    "        for region in measure.regionprops(label_image):  # 循环得到每一个连通区域属性集\n",
    "            # 忽略小区域\n",
    "\n",
    "            if region.area < 100000:\n",
    "                continue\n",
    "            # print('area is ' + str(region.area) + '  ecc is' + str(region.eccentricity))\n",
    "            if Eccentricity > region.eccentricity:\n",
    "                Eccentricity = region.eccentricity\n",
    "                minr, minc, maxr, maxc = region.bbox  # 绘制外包矩形\n",
    "        # 判断是否有符合条件的区域\n",
    "        if 'minr' in vars():\n",
    "            pic = x[i][minr:maxr, minc:maxc,:]\n",
    "            pic = transform.resize(pic, [256,256,3])\n",
    "            #print(lbp)\n",
    "            # plt.imshow(pic)\n",
    "            # plt.show()\n",
    "        else:\n",
    "            pic = transform.resize(x[i], [256, 256, 3])\n",
    "\n",
    "        #提取LBP特征，每个图像分成4块进行提取\n",
    "        pic1 = color.rgb2gray(pic)\n",
    "        rows, cols = pic1.shape\n",
    "        radius = 2;\n",
    "        n_points = radius * 8\n",
    "\n",
    "        lbp_sum=[]\n",
    "        for row in range(2):\n",
    "            for col in range(2):\n",
    "                #print(str((row * rows//2)) + ' : ' + str(((row+1) * rows//2 - 1)))\n",
    "                pic1_block = pic1[(row * rows//2) : ((row+1) * rows//2 - 1) , (col * col//2) : ((col+1) * col//2 - 1)]\n",
    "                lbp = feature.local_binary_pattern(pic1, n_points, radius, 'uniform')\n",
    "                lbp2 = lbp.astype(np.int32)\n",
    "                max_bins = int(lbp2.max() + 1)\n",
    "                train_hist, _ = np.histogram(lbp2, normed=True, bins=max_bins, range=(0, max_bins))\n",
    "               # print(train_hist.dtype)\n",
    "                #print(train_hist)\n",
    "                lbp_sum=lbp_sum + train_hist.tolist()\n",
    "\n",
    "                #\n",
    "        print(i)\n",
    "\n",
    "\n",
    "\n",
    "        Data.append(lbp_sum)\n",
    "    return Data\n",
    "#使用SVM进行训练并计算测试准确率\n",
    "print ('almost')"
   ]
  },
  {
   "cell_type": "code",
   "execution_count": null,
   "metadata": {},
   "outputs": [],
   "source": [
    "#print (y_train[5:50])\n",
    "#print (len(X_train))"
   ]
  },
  {
   "cell_type": "code",
   "execution_count": null,
   "metadata": {},
   "outputs": [],
   "source": [
    "datax=imgprocessing(x)\n",
    "datavalx=imgprocessing(valx)"
   ]
  },
  {
   "cell_type": "code",
   "execution_count": null,
   "metadata": {},
   "outputs": [],
   "source": [
    "\n",
    "# train_data = Data[0:7]\n",
    "# train_label = label1[0:7]\n",
    "# test_data = Data[8:9]\n",
    "# test_label = label1[8:9]\n",
    "svr_rbf = svm.SVR(kernel='rbf', C=1e3, gamma=0.1);\n",
    "model = multiclass .OneVsRestClassifier(svr_rbf,-1)  #.fit(train_data, train_label).score(test_data,test_label)\n",
    "clf = model.fit(datax, y)\n",
    "sore=clf.score(datavalx, valy)\n",
    "print('acc'+str(sore))"
   ]
  }
 ],
 "metadata": {
  "kernelspec": {
   "display_name": "Python 3",
   "language": "python",
   "name": "python3"
  },
  "language_info": {
   "codemirror_mode": {
    "name": "ipython",
    "version": 3
   },
   "file_extension": ".py",
   "mimetype": "text/x-python",
   "name": "python",
   "nbconvert_exporter": "python",
   "pygments_lexer": "ipython3",
   "version": "3.7.4"
  }
 },
 "nbformat": 4,
 "nbformat_minor": 2
}
